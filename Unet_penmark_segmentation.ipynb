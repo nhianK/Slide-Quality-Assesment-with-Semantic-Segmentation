{
  "cells": [
    {
      "cell_type": "code",
      "execution_count": 1,
      "metadata": {
        "id": "Q_MTkVAlRofm"
      },
      "outputs": [],
      "source": [
        "import os\n",
        "import sys\n",
        "import random\n",
        "import numpy as np\n",
        "import cv2\n",
        "import tensorflow as tf\n",
        "from tensorflow import keras\n",
        "import cv2\n",
        "import matplotlib.pyplot as plt\n",
        "from keras import backend as K\n",
        "from sklearn.metrics import roc_curve, roc_auc_score, confusion_matrix \n",
        "from sklearn.model_selection import KFold\n",
        "from keras.applications.vgg16 import VGG16"
      ]
    },
    {
      "cell_type": "code",
      "source": [
        "from skimage.io import imread, imshow, imread_collection, concatenate_images\n",
        "from skimage.transform import resize\n",
        "import datetime\n",
        "now = datetime.datetime.now"
      ],
      "metadata": {
        "id": "QWmDKzyOy2A9"
      },
      "execution_count": 2,
      "outputs": []
    },
    {
      "cell_type": "code",
      "execution_count": 3,
      "metadata": {
        "id": "gqxmIZ0n4z4u"
      },
      "outputs": [],
      "source": [
        "from tensorflow.keras.models import Model\n",
        "from tensorflow.keras.layers import Input, Conv2D, MaxPooling2D, UpSampling2D, Conv2DTranspose, multiply, Lambda, add, Activation,Dropout, BatchNormalization\n",
        "from tensorflow.keras.layers import concatenate, Concatenate\n",
        "from tensorflow.keras.optimizers import *\n",
        "import keras.backend as K\n",
        "from keras.callbacks import EarlyStopping\n",
        "from keras.preprocessing import image\n",
        "import tensorflow as tf\n",
        "import matplotlib.pyplot as plt\n",
        "%matplotlib inline"
      ]
    },
    {
      "cell_type": "code",
      "execution_count": 4,
      "metadata": {
        "colab": {
          "base_uri": "https://localhost:8080/"
        },
        "id": "xsM7wRJHoCcm",
        "outputId": "4d544e0c-63a5-419c-da08-a5abfcdf3df1"
      },
      "outputs": [
        {
          "output_type": "stream",
          "name": "stdout",
          "text": [
            "Looking in indexes: https://pypi.org/simple, https://us-python.pkg.dev/colab-wheels/public/simple/\n",
            "Requirement already satisfied: natsort in /usr/local/lib/python3.7/dist-packages (5.5.0)\n"
          ]
        }
      ],
      "source": [
        "!pip install natsort"
      ]
    },
    {
      "cell_type": "code",
      "execution_count": 5,
      "metadata": {
        "id": "qNzoZAyB46c8"
      },
      "outputs": [],
      "source": [
        "from os import listdir\n",
        "import natsort \n",
        "import PIL\n",
        "PIL.Image.MAX_IMAGE_PIXELS = 933120000"
      ]
    },
    {
      "cell_type": "code",
      "execution_count": 6,
      "metadata": {
        "colab": {
          "base_uri": "https://localhost:8080/"
        },
        "id": "bxdE8NpVC13g",
        "outputId": "25cf1f98-c67a-4df6-9e79-ba352f9a3cdc"
      },
      "outputs": [
        {
          "output_type": "stream",
          "name": "stdout",
          "text": [
            "Mounted at /content/gdrive\n"
          ]
        }
      ],
      "source": [
        "from google.colab import drive\n",
        "drive.mount('/content/gdrive', force_remount=True)"
      ]
    },
    {
      "cell_type": "code",
      "execution_count": 7,
      "metadata": {
        "colab": {
          "base_uri": "https://localhost:8080/"
        },
        "id": "Mr0WJsuk46go",
        "outputId": "2c8c40ef-47eb-4389-a13c-09ed7e483831"
      },
      "outputs": [
        {
          "output_type": "execute_result",
          "data": {
            "text/plain": [
              "69"
            ]
          },
          "metadata": {},
          "execution_count": 7
        }
      ],
      "source": [
        "#paths of images and masks\n",
        "train_img_path = '/content/gdrive/MyDrive/UNET-code/thumb'\n",
        "train_mask_path = '/content/gdrive/MyDrive/UNET-code/annotations'\n",
        "image_list = listdir(train_img_path)\n",
        "mask_list = listdir(train_mask_path)\n",
        "sorted_mlist = natsort.natsorted(mask_list)\n",
        "sorted_imglist=natsort.natsorted(image_list)\n",
        "num_imgs = len(sorted_imglist)\n",
        "num_imgs"
      ]
    },
    {
      "cell_type": "code",
      "execution_count": 109,
      "metadata": {
        "id": "2RVyy0IX46kZ"
      },
      "outputs": [],
      "source": [
        "IMAGE_SIZE = 256\n",
        "img_channels = 3\n",
        "mask_channel = 1\n",
        "epochs = 3\n",
        "BATCH_SIZE = 16"
      ]
    },
    {
      "cell_type": "code",
      "execution_count": 9,
      "metadata": {
        "id": "eBOduJUP6rsM"
      },
      "outputs": [],
      "source": [
        "input_img = (IMAGE_SIZE, IMAGE_SIZE, img_channels)\n",
        "input_mask = (IMAGE_SIZE, IMAGE_SIZE,mask_channel)"
      ]
    },
    {
      "cell_type": "code",
      "execution_count": 10,
      "metadata": {
        "id": "-jWZTd7p46ng"
      },
      "outputs": [],
      "source": [
        "def loadimages(dir_path,imglist,imgarray,inp_size):\n",
        "  for i in range(num_imgs):\n",
        "    temp = tf.keras.utils.load_img(os.path.join(dir_path, imglist[i]), target_size = inp_size)\n",
        "    img = tf.keras.utils.img_to_array(temp)\n",
        "    img = tf.image.resize(img, (IMAGE_SIZE,IMAGE_SIZE))\n",
        "    imgarray[i] = img[:,:,:]/255.0\n",
        "  return imgarray\n",
        "def loadmasks(dir_path,imglist,imgarray,inp_size):\n",
        "  for i in range(num_imgs):\n",
        "    temp = tf.keras.utils.load_img(os.path.join(dir_path, imglist[i]), target_size = inp_size)\n",
        "    img = tf.keras.utils.img_to_array(temp)\n",
        "    img = tf.image.resize(img, (IMAGE_SIZE,IMAGE_SIZE))\n",
        "    imgarray[i] = img[:,:,0]/255.0 \n",
        "  imgarray = np.expand_dims(imgarray, axis=3)\n",
        "  return imgarray"
      ]
    },
    {
      "cell_type": "code",
      "execution_count": 11,
      "metadata": {
        "id": "dgScNhyk46qm"
      },
      "outputs": [],
      "source": [
        "x = np.zeros((num_imgs, IMAGE_SIZE, IMAGE_SIZE,3),dtype=np.float32)\n",
        "y = np.zeros((num_imgs,IMAGE_SIZE,IMAGE_SIZE),dtype=np.float32)"
      ]
    },
    {
      "cell_type": "code",
      "execution_count": 12,
      "metadata": {
        "id": "E2J9W8T746tP"
      },
      "outputs": [],
      "source": [
        "xtrain = loadimages(train_img_path, sorted_imglist, x, input_img)\n",
        "ytrain = loadmasks(train_mask_path, sorted_mlist, y, input_mask)"
      ]
    },
    {
      "cell_type": "code",
      "execution_count": 13,
      "metadata": {
        "colab": {
          "base_uri": "https://localhost:8080/",
          "height": 52
        },
        "id": "N74bHRYO46wf",
        "outputId": "30157848-48cc-4381-e92d-54d78d7c4206"
      },
      "outputs": [
        {
          "output_type": "execute_result",
          "data": {
            "text/plain": [
              "' Uncomment for visualization\\nplt.figure(figsize = (14,6))\\nplt.subplot(221)\\nplt.imshow(np.squeeze(images[0]))\\nplt.title(\\'image 1\\')\\nplt.subplot(222)\\nplt.imshow(np.squeeze(masks[0]), cmap = \"gray\")\\nplt.title(\\'mask 1\\')'"
            ],
            "application/vnd.google.colaboratory.intrinsic+json": {
              "type": "string"
            }
          },
          "metadata": {},
          "execution_count": 13
        }
      ],
      "source": [
        "''' Uncomment for visualization\n",
        "plt.figure(figsize = (14,6))\n",
        "plt.subplot(221)\n",
        "plt.imshow(np.squeeze(images[0]))\n",
        "plt.title('image 1')\n",
        "plt.subplot(222)\n",
        "plt.imshow(np.squeeze(masks[0]), cmap = \"gray\")\n",
        "plt.title('mask 1')'''"
      ]
    },
    {
      "cell_type": "markdown",
      "metadata": {
        "id": "UANUXOPLRPeW"
      },
      "source": [
        "Augmentation"
      ]
    },
    {
      "cell_type": "code",
      "execution_count": 14,
      "metadata": {
        "id": "oZu3Tp3iyns6",
        "outputId": "2fc86628-fa4e-4ae7-dc76-b16b3faef94b",
        "colab": {
          "base_uri": "https://localhost:8080/"
        }
      },
      "outputs": [
        {
          "output_type": "stream",
          "name": "stdout",
          "text": [
            "Looking in indexes: https://pypi.org/simple, https://us-python.pkg.dev/colab-wheels/public/simple/\n",
            "Requirement already satisfied: albumentations in /usr/local/lib/python3.7/dist-packages (1.2.1)\n",
            "Collecting albumentations\n",
            "  Downloading albumentations-1.3.0-py3-none-any.whl (123 kB)\n",
            "\u001b[K     |████████████████████████████████| 123 kB 30.2 MB/s \n",
            "\u001b[?25hRequirement already satisfied: qudida>=0.0.4 in /usr/local/lib/python3.7/dist-packages (from albumentations) (0.0.4)\n",
            "Requirement already satisfied: numpy>=1.11.1 in /usr/local/lib/python3.7/dist-packages (from albumentations) (1.21.6)\n",
            "Requirement already satisfied: PyYAML in /usr/local/lib/python3.7/dist-packages (from albumentations) (6.0)\n",
            "Requirement already satisfied: scikit-image>=0.16.1 in /usr/local/lib/python3.7/dist-packages (from albumentations) (0.18.3)\n",
            "Requirement already satisfied: opencv-python-headless>=4.1.1 in /usr/local/lib/python3.7/dist-packages (from albumentations) (4.6.0.66)\n",
            "Requirement already satisfied: scipy in /usr/local/lib/python3.7/dist-packages (from albumentations) (1.7.3)\n",
            "Requirement already satisfied: typing-extensions in /usr/local/lib/python3.7/dist-packages (from qudida>=0.0.4->albumentations) (4.1.1)\n",
            "Requirement already satisfied: scikit-learn>=0.19.1 in /usr/local/lib/python3.7/dist-packages (from qudida>=0.0.4->albumentations) (1.0.2)\n",
            "Requirement already satisfied: PyWavelets>=1.1.1 in /usr/local/lib/python3.7/dist-packages (from scikit-image>=0.16.1->albumentations) (1.3.0)\n",
            "Requirement already satisfied: tifffile>=2019.7.26 in /usr/local/lib/python3.7/dist-packages (from scikit-image>=0.16.1->albumentations) (2021.11.2)\n",
            "Requirement already satisfied: networkx>=2.0 in /usr/local/lib/python3.7/dist-packages (from scikit-image>=0.16.1->albumentations) (2.6.3)\n",
            "Requirement already satisfied: pillow!=7.1.0,!=7.1.1,>=4.3.0 in /usr/local/lib/python3.7/dist-packages (from scikit-image>=0.16.1->albumentations) (7.1.2)\n",
            "Requirement already satisfied: matplotlib!=3.0.0,>=2.0.0 in /usr/local/lib/python3.7/dist-packages (from scikit-image>=0.16.1->albumentations) (3.2.2)\n",
            "Requirement already satisfied: imageio>=2.3.0 in /usr/local/lib/python3.7/dist-packages (from scikit-image>=0.16.1->albumentations) (2.9.0)\n",
            "Requirement already satisfied: pyparsing!=2.0.4,!=2.1.2,!=2.1.6,>=2.0.1 in /usr/local/lib/python3.7/dist-packages (from matplotlib!=3.0.0,>=2.0.0->scikit-image>=0.16.1->albumentations) (3.0.9)\n",
            "Requirement already satisfied: kiwisolver>=1.0.1 in /usr/local/lib/python3.7/dist-packages (from matplotlib!=3.0.0,>=2.0.0->scikit-image>=0.16.1->albumentations) (1.4.4)\n",
            "Requirement already satisfied: python-dateutil>=2.1 in /usr/local/lib/python3.7/dist-packages (from matplotlib!=3.0.0,>=2.0.0->scikit-image>=0.16.1->albumentations) (2.8.2)\n",
            "Requirement already satisfied: cycler>=0.10 in /usr/local/lib/python3.7/dist-packages (from matplotlib!=3.0.0,>=2.0.0->scikit-image>=0.16.1->albumentations) (0.11.0)\n",
            "Requirement already satisfied: six>=1.5 in /usr/local/lib/python3.7/dist-packages (from python-dateutil>=2.1->matplotlib!=3.0.0,>=2.0.0->scikit-image>=0.16.1->albumentations) (1.15.0)\n",
            "Requirement already satisfied: threadpoolctl>=2.0.0 in /usr/local/lib/python3.7/dist-packages (from scikit-learn>=0.19.1->qudida>=0.0.4->albumentations) (3.1.0)\n",
            "Requirement already satisfied: joblib>=0.11 in /usr/local/lib/python3.7/dist-packages (from scikit-learn>=0.19.1->qudida>=0.0.4->albumentations) (1.2.0)\n",
            "Installing collected packages: albumentations\n",
            "  Attempting uninstall: albumentations\n",
            "    Found existing installation: albumentations 1.2.1\n",
            "    Uninstalling albumentations-1.2.1:\n",
            "      Successfully uninstalled albumentations-1.2.1\n",
            "Successfully installed albumentations-1.3.0\n"
          ]
        }
      ],
      "source": [
        "!pip install -U albumentations"
      ]
    },
    {
      "cell_type": "code",
      "execution_count": 15,
      "metadata": {
        "id": "GaE-mipaHZtJ"
      },
      "outputs": [],
      "source": [
        "import albumentations as A\n",
        "import cv2\n",
        "\n",
        "transform = A.Compose([\n",
        "    A.RandomCrop(width= IMAGE_SIZE, height=IMAGE_SIZE),\n",
        "    A.HorizontalFlip(p=0.5),\n",
        "    A.VerticalFlip(p=0.5),\n",
        "    A.RandomBrightnessContrast(p=0.1),\n",
        "    A.Rotate(limit = 90),\n",
        "])"
      ]
    },
    {
      "cell_type": "code",
      "execution_count": 16,
      "metadata": {
        "id": "LD6RJCskJEbg"
      },
      "outputs": [],
      "source": [
        "img = []\n",
        "msk = []\n",
        "for i,j in enumerate(zip(xtrain,ytrain)):\n",
        "  transformed = transform(image =np.array(j[0]), mask=np.array(j[1]))\n",
        "  img.append(transformed['image'])\n",
        "  msk.append(transformed['mask'])"
      ]
    },
    {
      "cell_type": "code",
      "execution_count": 17,
      "metadata": {
        "id": "5islLaPVXtSw"
      },
      "outputs": [],
      "source": [
        "img2 = []\n",
        "msk2 = []\n",
        "for i,j in enumerate(zip(xtrain,ytrain)):\n",
        "  transformed = transform(image =np.array(j[0]), mask=np.array(j[1]))\n",
        "  img2.append(transformed['image'])\n",
        "  msk2.append(transformed['mask'])"
      ]
    },
    {
      "cell_type": "code",
      "execution_count": 18,
      "metadata": {
        "id": "3TtM-cPqQIGk"
      },
      "outputs": [],
      "source": [
        "img = np.array(img)\n",
        "msk = np.array(msk)\n",
        "img2 = np.array(img2)\n",
        "msk2 = np.array(msk2)"
      ]
    },
    {
      "cell_type": "markdown",
      "metadata": {
        "id": "YyJxzZ04Qunq"
      },
      "source": [
        "Concatenate"
      ]
    },
    {
      "cell_type": "code",
      "execution_count": 19,
      "metadata": {
        "id": "URfu4aghQxvj"
      },
      "outputs": [],
      "source": [
        "xtrain = np.array(xtrain)\n",
        "ytrain = np.array(ytrain)\n",
        "Xtrain = np.append(xtrain,img, axis = 0)\n",
        "Ytrain = np.append(ytrain,msk,axis = 0)"
      ]
    },
    {
      "cell_type": "code",
      "execution_count": 20,
      "metadata": {
        "id": "_prGC_fHYBQY"
      },
      "outputs": [],
      "source": [
        "Xtrain = np.append(Xtrain,img2, axis = 0)\n",
        "Ytrain = np.append(Ytrain,msk2,axis = 0)"
      ]
    },
    {
      "cell_type": "code",
      "execution_count": 21,
      "metadata": {
        "colab": {
          "base_uri": "https://localhost:8080/"
        },
        "id": "QVkDuDzvXbry",
        "outputId": "ccf198b1-dbba-492c-f748-15f44e5ec56c"
      },
      "outputs": [
        {
          "output_type": "execute_result",
          "data": {
            "text/plain": [
              "(207, 256, 256, 3)"
            ]
          },
          "metadata": {},
          "execution_count": 21
        }
      ],
      "source": [
        "Xtrain.shape"
      ]
    },
    {
      "cell_type": "code",
      "execution_count": 22,
      "metadata": {
        "colab": {
          "base_uri": "https://localhost:8080/"
        },
        "id": "KaKZNXDJXfVZ",
        "outputId": "247f3a6e-fb6e-4e69-fa90-68dc9136e527"
      },
      "outputs": [
        {
          "output_type": "execute_result",
          "data": {
            "text/plain": [
              "(207, 256, 256, 1)"
            ]
          },
          "metadata": {},
          "execution_count": 22
        }
      ],
      "source": [
        "Ytrain.shape"
      ]
    },
    {
      "cell_type": "markdown",
      "metadata": {
        "id": "vZmCkuTDPklO"
      },
      "source": [
        "Metrics"
      ]
    },
    {
      "cell_type": "code",
      "execution_count": 24,
      "metadata": {
        "id": "y83nA_I-46zR"
      },
      "outputs": [],
      "source": [
        "smooth = 1.\n",
        "def dice_score(y_true, y_pred):\n",
        "    # masks\n",
        "    smooth = 1.\n",
        "    y_true_fm = K.flatten(y_true)\n",
        "    y_pred_f = K.flatten(y_pred)\n",
        "    intersection = K.sum(y_true_fm * y_pred_f)\n",
        "    score = (2. * intersection + smooth) / (K.sum(y_true_fm) + K.sum(y_pred_f) + smooth) \n",
        "    return score\n",
        "\n",
        "def dice_loss(y_true, y_pred):\n",
        "    smooth = 1.\n",
        "    y_true_fm = K.flatten(y_true)\n",
        "    y_pred_f = K.flatten(y_pred)\n",
        "    intersection = K.sum(y_true_fm * y_pred_f)\n",
        "    score = (2. * intersection + smooth) / (K.sum(y_true_fm) + K.sum(y_pred_f) + smooth)\n",
        "    loss = 1-score\n",
        "    return loss\n"
      ]
    },
    {
      "cell_type": "code",
      "execution_count": 111,
      "metadata": {
        "id": "w8K6DyfdsK41"
      },
      "outputs": [],
      "source": [
        "def UNET(IMAGE_SIZE,num_channels):\n",
        "  inputs = Input((IMAGE_SIZE, IMAGE_SIZE, num_channels))\n",
        "  #s = Lambda(lambda x: x / 255)(inputs)   \n",
        "  #No need for this if we normalize our inputs beforehand\n",
        "  s = inputs\n",
        "\n",
        "    #Contraction path\n",
        "  c1 = Conv2D(16, (3, 3), activation='relu', kernel_initializer='he_normal', padding='same')(s)\n",
        "  c1 = Dropout(0.4)(c1)\n",
        "  c1 = Conv2D(16, (3, 3), activation='relu', kernel_initializer='he_normal', padding='same')(c1)\n",
        "  c1 = BatchNormalization()(c1)\n",
        "  p1 = MaxPooling2D((2, 2))(c1)\n",
        "    \n",
        "  c2 = Conv2D(32, (3, 3), activation='relu', kernel_initializer='he_normal', padding='same')(p1)\n",
        "  c2 = Dropout(0.4)(c2)\n",
        "  c2 = Conv2D(32, (3, 3), activation='relu', kernel_initializer='he_normal', padding='same')(c2)\n",
        "  c2 = BatchNormalization()(c2)\n",
        "  p2 = MaxPooling2D((2, 2))(c2)\n",
        "     \n",
        "  c3 = Conv2D(64, (3, 3), activation='relu', kernel_initializer='he_normal', padding='same')(p2)\n",
        "  c3 = Dropout(0.4)(c3)\n",
        "  c3 = Conv2D(64, (3, 3), activation='relu', kernel_initializer='he_normal', padding='same')(c3)\n",
        "  c3 = BatchNormalization()(c3)\n",
        "  p3 = MaxPooling2D((2, 2))(c3)\n",
        "     \n",
        "  c4 = Conv2D(128, (3, 3), activation='relu', kernel_initializer='he_normal', padding='same')(p3)\n",
        "  c4 = Dropout(0.4)(c4)\n",
        "  c4 = Conv2D(128, (3, 3), activation='relu', kernel_initializer='he_normal', padding='same')(c4)\n",
        "  c4 = BatchNormalization()(c4)\n",
        "  p4 = MaxPooling2D(pool_size=(2, 2))(c4)\n",
        "     \n",
        "  c5 = Conv2D(256, (3, 3), activation='relu', kernel_initializer='he_normal', padding='same')(p4)\n",
        "  c5 = Dropout(0.4)(c5)\n",
        "  c5 = Conv2D(256, (3, 3), activation='relu', kernel_initializer='he_normal', padding='same')(c5)\n",
        "    \n",
        "    #Expansive path \n",
        "  u6 = Conv2DTranspose(128, (2, 2), strides=(2, 2), padding='same')(c5)\n",
        "  u6 = concatenate([u6, c4])\n",
        "  c6 = Conv2D(128, (3, 3), activation='relu', kernel_initializer='he_normal', padding='same')(u6)\n",
        "  c6 = Dropout(0.4)(c6)\n",
        "  c6 = Conv2D(128, (3, 3), activation='relu', kernel_initializer='he_normal', padding='same')(c6)\n",
        "     \n",
        "  u7 = Conv2DTranspose(64, (2, 2), strides=(2, 2), padding='same')(c6)\n",
        "  u7 = concatenate([u7, c3])\n",
        "  c7 = Conv2D(64, (3, 3), activation='relu', kernel_initializer='he_normal', padding='same')(u7)\n",
        "  c7 = Dropout(0.4)(c7)\n",
        "  c7 = Conv2D(64, (3, 3), activation='relu', kernel_initializer='he_normal', padding='same')(c7)\n",
        "     \n",
        "  u8 = Conv2DTranspose(32, (2, 2), strides=(2, 2), padding='same')(c7)\n",
        "  u8 = concatenate([u8, c2])\n",
        "  c8 = Conv2D(32, (3, 3), activation='relu', kernel_initializer='he_normal', padding='same')(u8)\n",
        "  c8 = Dropout(0.4)(c8)\n",
        "  c8 = Conv2D(32, (3, 3), activation='relu', kernel_initializer='he_normal', padding='same')(c8)\n",
        "     \n",
        "  u9 = Conv2DTranspose(16, (2, 2), strides=(2, 2), padding='same')(c8)\n",
        "  u9 = concatenate([u9, c1], axis=3)\n",
        "  c9 = Conv2D(16, (3, 3), activation='relu', kernel_initializer='he_normal', padding='same')(u9)\n",
        "  c9 = Dropout(0.4)(c9)\n",
        "  c9 = Conv2D(16, (3, 3), activation='relu', kernel_initializer='he_normal', padding='same')(c9)\n",
        "     \n",
        "  outputs = Conv2D(1, (1, 1), activation='sigmoid')(c9)\n",
        "     \n",
        "  model = Model(inputs=[inputs], outputs=[outputs])\n",
        "\n",
        "\n",
        "  model.summary()\n",
        "    \n",
        "  return model"
      ]
    },
    {
      "cell_type": "code",
      "execution_count": 112,
      "metadata": {
        "colab": {
          "base_uri": "https://localhost:8080/"
        },
        "id": "HTGUj0iU46-Y",
        "outputId": "7692bfbe-15f5-4199-f2cc-299f69f18fab"
      },
      "outputs": [
        {
          "output_type": "stream",
          "name": "stdout",
          "text": [
            "(None, 256, 256, 3)\n",
            "(None, 256, 256, 64)\n",
            "Epoch 1/3\n"
          ]
        },
        {
          "output_type": "stream",
          "name": "stderr",
          "text": [
            "/usr/local/lib/python3.7/dist-packages/keras/optimizers/optimizer_v2/adam.py:110: UserWarning: The `lr` argument is deprecated, use `learning_rate` instead.\n",
            "  super(Adam, self).__init__(name, **kwargs)\n"
          ]
        },
        {
          "output_type": "stream",
          "name": "stdout",
          "text": [
            "11/11 [==============================] - 12s 920ms/step - loss: 0.2802 - dice_score: 0.7197 - val_loss: 0.4387 - val_dice_score: 0.5615\n",
            "Epoch 2/3\n",
            "11/11 [==============================] - 9s 808ms/step - loss: 0.2803 - dice_score: 0.7198 - val_loss: 0.3912 - val_dice_score: 0.6090\n",
            "Epoch 3/3\n",
            "11/11 [==============================] - 9s 809ms/step - loss: 0.2802 - dice_score: 0.7200 - val_loss: 0.3599 - val_dice_score: 0.6403\n"
          ]
        }
      ],
      "source": [
        "model = UNET(input_img)\n",
        "model.compile(optimizer = tf.keras.optimizers.Adam(lr = 1e-8), loss = dice_loss, metrics = [dice_score])\n",
        "#t = now()\n",
        "callbacks = [EarlyStopping(monitor='loss', patience = 2)]\n",
        "history = model.fit(x = Xtrain, y = Ytrain, batch_size=BATCH_SIZE,validation_split  = 0.20, epochs=epochs, verbose=1, callbacks=callbacks)"
      ]
    },
    {
      "cell_type": "code",
      "execution_count": 113,
      "metadata": {
        "id": "YNGW4dF01z0R"
      },
      "outputs": [],
      "source": [
        "test_path = '/content/gdrive/MyDrive/UNET-code/thumb-test'\n",
        "test_mask_path = '/content/gdrive/MyDrive/UNET-code/annotations-test'\n",
        "test_list = listdir(test_path)\n",
        "tmsk_list = listdir(test_mask_path)\n",
        "sorted_tmsk = natsort.natsorted(tmsk_list)\n",
        "sorted_test=natsort.natsorted(test_list)\n",
        "num_imgs = len(sorted_test)\n",
        "num_imgs\n",
        "num_msk = len(sorted_tmsk)"
      ]
    },
    {
      "cell_type": "code",
      "source": [
        "def loadmsk(dir_path,imglist,imgarray,inp_size):\n",
        "  for i in range(num_msk):\n",
        "    temp = tf.keras.utils.load_img(os.path.join(dir_path, imglist[i]), target_size = inp_size)\n",
        "    img = tf.keras.utils.img_to_array(temp)\n",
        "    img = tf.image.resize(img, (IMAGE_SIZE,IMAGE_SIZE))\n",
        "    imgarray[i] = img[:,:,0]/255.0 \n",
        "  imgarray = np.expand_dims(imgarray, axis=3)\n",
        "  return imgarray"
      ],
      "metadata": {
        "id": "artKEvRrNzJo"
      },
      "execution_count": 114,
      "outputs": []
    },
    {
      "cell_type": "code",
      "execution_count": 115,
      "metadata": {
        "id": "jzqrlqV71z8d"
      },
      "outputs": [],
      "source": [
        "xtest = np.zeros((num_imgs, IMAGE_SIZE, IMAGE_SIZE,3),dtype=np.float32)\n",
        "ytest = np.zeros((num_msk,IMAGE_SIZE,IMAGE_SIZE),dtype=np.float32)"
      ]
    },
    {
      "cell_type": "code",
      "execution_count": 116,
      "metadata": {
        "colab": {
          "base_uri": "https://localhost:8080/"
        },
        "id": "KFXerORk10BF",
        "outputId": "610771fd-cec6-434c-86e0-99b036304963"
      },
      "outputs": [
        {
          "output_type": "stream",
          "name": "stdout",
          "text": [
            "images (14, 256, 256, 3)\n",
            "masks (8, 256, 256, 1)\n"
          ]
        }
      ],
      "source": [
        "testimg = loadimages(test_path, sorted_test, xtest, input_img)\n",
        "testmsk = loadmsk(test_mask_path, sorted_tmsk, ytest, input_mask)\n",
        "print(\"images\", testimg.shape)\n",
        "print(\"masks\", testmsk.shape)"
      ]
    },
    {
      "cell_type": "code",
      "execution_count": 124,
      "metadata": {
        "colab": {
          "base_uri": "https://localhost:8080/"
        },
        "id": "o7RYerSbNMoj",
        "outputId": "f05a02be-90fd-4596-d9c8-708076c60b19"
      },
      "outputs": [
        {
          "output_type": "stream",
          "name": "stdout",
          "text": [
            "1/1 [==============================] - 0s 23ms/step\n",
            "Testing time: 0:00:00.326007\n"
          ]
        }
      ],
      "source": [
        "t = now()\n",
        "preds = model.predict(testimg)\n",
        "#preds = (preds < 0.62).astype(np.uint8)\n",
        "print('Testing time: %s' % (now() - t))"
      ]
    },
    {
      "cell_type": "code",
      "execution_count": 118,
      "metadata": {
        "id": "a5wgF8zMyntD"
      },
      "outputs": [],
      "source": [
        "preds[9] = preds[9] > 0.65"
      ]
    },
    {
      "cell_type": "code",
      "source": [
        "num_disp = 3"
      ],
      "metadata": {
        "id": "XNiGoxBZOklw"
      },
      "execution_count": 119,
      "outputs": []
    },
    {
      "cell_type": "code",
      "execution_count": 120,
      "metadata": {
        "colab": {
          "base_uri": "https://localhost:8080/",
          "height": 370
        },
        "id": "IoC5Y_0Lm6X_",
        "outputId": "ed7a6e44-7257-42f4-d539-98c432045ae1"
      },
      "outputs": [
        {
          "output_type": "execute_result",
          "data": {
            "text/plain": [
              "Text(0.5, 1.0, 'Image')"
            ]
          },
          "metadata": {},
          "execution_count": 120
        },
        {
          "output_type": "display_data",
          "data": {
            "text/plain": [
              "<Figure size 720x1080 with 1 Axes>"
            ],
            "image/png": "[encoded data removed]"
          },
          "metadata": {
            "needs_background": "light"
          }
        },
        {
          "output_type": "display_data",
          "data": {
            "text/plain": [
              "<Figure size 720x1080 with 1 Axes>"
            ],
            "image/png": "[encoded data removed]"
          },
          "metadata": {
            "needs_background": "light"
          }
        }
      ],
      "source": [
        "plt.figure(figsize = (10,15))\n",
        "plt.subplot(num_disp,4,1)\n",
        "plt.imshow(np.squeeze(testimg[9]))\n",
        "plt.title('Image')\n",
        "plt.title('Image')\n",
        "plt.figure(figsize = (10,15))\n",
        "plt.subplot(num_disp,4,1)\n",
        "plt.imshow(np.squeeze(preds[9]),cmap = 'gray')\n",
        "plt.title('Image')"
      ]
    },
    {
      "cell_type": "code",
      "execution_count": 125,
      "metadata": {
        "id": "oY1NonanyntE"
      },
      "outputs": [],
      "source": [
        "preds[10] = (preds[10] > 0.67).astype(np.uint8)"
      ]
    },
    {
      "cell_type": "code",
      "execution_count": 126,
      "metadata": {
        "colab": {
          "base_uri": "https://localhost:8080/",
          "height": 370
        },
        "id": "WmXMvwyYnsyS",
        "outputId": "91e9a561-0708-4ce9-f30c-59e3324b4e9a"
      },
      "outputs": [
        {
          "output_type": "execute_result",
          "data": {
            "text/plain": [
              "Text(0.5, 1.0, 'Image')"
            ]
          },
          "metadata": {},
          "execution_count": 126
        },
        {
          "output_type": "display_data",
          "data": {
            "text/plain": [
              "<Figure size 720x1080 with 1 Axes>"
            ],
            "image/png": "[encoded data removed]"
          },
          "metadata": {
            "needs_background": "light"
          }
        },
        {
          "output_type": "display_data",
          "data": {
            "text/plain": [
              "<Figure size 720x1080 with 1 Axes>"
            ],
            "image/png": "[encoded data removed]"
          },
          "metadata": {
            "needs_background": "light"
          }
        }
      ],
      "source": [
        "plt.figure(figsize = (10,15))\n",
        "plt.subplot(num_disp,4,1)\n",
        "plt.imshow(np.squeeze(testimg[10]))\n",
        "plt.title('Image')\n",
        "plt.figure(figsize = (10,15))\n",
        "plt.subplot(num_disp,4,1)\n",
        "plt.imshow(np.squeeze(preds[10]),cmap = 'gray')\n",
        "plt.title('Image')"
      ]
    },
    {
      "cell_type": "code",
      "execution_count": 105,
      "metadata": {
        "id": "EaUbEngJyntE"
      },
      "outputs": [],
      "source": [
        "preds[11] = (preds[11] > 0.65).astype(np.uint8)"
      ]
    },
    {
      "cell_type": "code",
      "execution_count": 106,
      "metadata": {
        "colab": {
          "base_uri": "https://localhost:8080/",
          "height": 370
        },
        "id": "2fhc-fmfpYf8",
        "outputId": "b3493ee7-825c-4396-aadb-6da972a39afb"
      },
      "outputs": [
        {
          "output_type": "execute_result",
          "data": {
            "text/plain": [
              "Text(0.5, 1.0, 'Image')"
            ]
          },
          "metadata": {},
          "execution_count": 106
        },
        {
          "output_type": "display_data",
          "data": {
            "text/plain": [
              "<Figure size 720x1080 with 1 Axes>"
            ],
            "image/png": "[encoded data removed]"
          },
          "metadata": {
            "needs_background": "light"
          }
        },
        {
          "output_type": "display_data",
          "data": {
            "text/plain": [
              "<Figure size 720x1080 with 1 Axes>"
            ],
            "image/png": "[encoded data removed]"
          },
          "metadata": {
            "needs_background": "light"
          }
        }
      ],
      "source": [
        "plt.figure(figsize = (10,15))\n",
        "plt.subplot(num_disp,4,1)\n",
        "plt.imshow(np.squeeze(testimg[11]))\n",
        "plt.title('Image')\n",
        "plt.figure(figsize = (10,15))\n",
        "plt.subplot(num_disp,4,1)\n",
        "plt.imshow(np.squeeze(preds[11]),cmap = 'gray')\n",
        "plt.title('Image')"
      ]
    },
    {
      "cell_type": "code",
      "execution_count": null,
      "metadata": {
        "id": "YeRpU1c5qOUG"
      },
      "outputs": [],
      "source": []
    },
    {
      "cell_type": "code",
      "execution_count": null,
      "metadata": {
        "id": "nzVKac51yntH"
      },
      "outputs": [],
      "source": []
    },
    {
      "cell_type": "code",
      "execution_count": null,
      "metadata": {
        "id": "Mtg0WNM7yntH"
      },
      "outputs": [],
      "source": []
    },
    {
      "cell_type": "code",
      "execution_count": null,
      "metadata": {
        "id": "SCovbRz0yntI"
      },
      "outputs": [],
      "source": []
    },
    {
      "cell_type": "code",
      "execution_count": null,
      "metadata": {
        "id": "py2BNnYZyntI"
      },
      "outputs": [],
      "source": []
    }
  ],
  "metadata": {
    "colab": {
      "provenance": []
    },
    "kernelspec": {
      "display_name": "Python 3 (ipykernel)",
      "language": "python",
      "name": "python3"
    },
    "language_info": {
      "codemirror_mode": {
        "name": "ipython",
        "version": 3
      },
      "file_extension": ".py",
      "mimetype": "text/x-python",
      "name": "python",
      "nbconvert_exporter": "python",
      "pygments_lexer": "ipython3",
      "version": "3.10.6"
    },
    "accelerator": "GPU",
    "gpuClass": "standard"
  },
  "nbformat": 4,
  "nbformat_minor": 0
}